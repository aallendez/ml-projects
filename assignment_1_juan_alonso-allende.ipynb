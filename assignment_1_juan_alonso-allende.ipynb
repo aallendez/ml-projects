{
 "cells": [
  {
   "cell_type": "markdown",
   "metadata": {},
   "source": [
    "# Machine Learning Foundations Data Preparation"
   ]
  },
  {
   "cell_type": "markdown",
   "metadata": {},
   "source": [
    "### Description\n",
    "In this assignment, you will carry out data preparation tasks using The Complete Titanic Dataset. This is a well-\n",
    "known training dataset about the tragedy of the Titanic, the British ocean liner that sank in the Atlantic Ocean\n",
    "on April 15, 1912. You will acquire hands-on experience with data cleaning, preprocessing, encoding, and feature\n",
    "engineering, which are essential steps in the machine-learning pipeline."
   ]
  },
  {
   "cell_type": "markdown",
   "metadata": {},
   "source": [
    "This dataset includes the following classes:\n",
    "1. **survival**: Survival (0 = No; 1 = Yes).\n",
    "2. **class**: Passenger Class (1 = 1st; 2 = 2nd; 3 = 3rd).\n",
    "3. **name**: Name.\n",
    "4. **sex**: Sex.\n",
    "5. **sibsp**: Number of Siblings/Spouses Aboard.\n",
    "6. **parch**: Number of Parents/Children Aboard.\n",
    "7. **ticket**: Ticket Number.\n",
    "8. **fare**: Passenger Fare.\n",
    "9. **cabin**: Cabin.\n",
    "10. **embarked**: Port of Embarkation (C = Cherbourg; Q = Queenstown; S = Southampton).\n",
    "11. **boat**: Lifeboat (if survived).\n",
    "12. **body**: Body number (if did not survive and the body was recovered)."
   ]
  },
  {
   "cell_type": "markdown",
   "metadata": {},
   "source": [
    "This data can be utilized to train models to predict various types of questions. For instance, will a passenger\n",
    "survive? What factors influence survival? Can we group passengers? What was the ticket price? Are there any\n",
    "anomalies in the data? For this assignment, we concentrate on data exploration and feature engineering for the\n",
    "following ML problem: **Will a passenger survive?**"
   ]
  }
 ],
 "metadata": {
  "language_info": {
   "name": "python"
  }
 },
 "nbformat": 4,
 "nbformat_minor": 2
}
